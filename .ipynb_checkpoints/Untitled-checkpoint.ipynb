{
 "cells": [
  {
   "cell_type": "code",
   "execution_count": null,
   "metadata": {
    "collapsed": true
   },
   "outputs": [],
   "source": [
    "import os,os.path\n",
    "import mapnik\n",
    "\n",
    "#First we create a map\n",
    "map = mapnik.Map(600, 300) #This is the image final image size\n",
    "\n",
    "#Lets put some sort of background color in the map\n",
    "map.background = mapnik.Color(\"steelblue\") # steelblue == #4682B4 \n",
    "\n",
    "#To style the map we need to define a set or rules\n",
    "#        Map\n",
    "#  Style      Style\n",
    "# Rule   Rule   Rule  Rule\n",
    "\n",
    "# we normally start from the bottom creating an empty rule\n",
    "rule = mapnik.Rule()\n",
    "\n",
    "#1) rule that the polygon should be dark red\n",
    "symbolizer = mapnik.PolygonSymbolizer(mapnik.Color(\"darkred\"))\n",
    "rule.symbols.append(symbolizer)\n",
    "\n",
    "#2) The rule is added to the style\n",
    "style = mapnik.Style()\n",
    "style.rules.append(rule)\n",
    "\n",
    "#3) Adding style to map, \"mapStyle\" is a simple name for our style\n",
    "#Later we will define that our layer uses this style that is stored on the maps object\n",
    "map.append_style(\"mapStyle\", style)\n",
    "\n",
    "#4) Adding the data first step is creating a layer, a map has mutiple layers\n",
    "layer = mapnik.Layer(\"mapLayer\")\n",
    "layer.datasource = mapnik.Shapefile(file=\"world_borders.shp\"))\n",
    "layer.styles.append(\"mapStyle\")\n",
    "\n",
    "#map.append_style(\"mapStyle\", style)\n",
    "\n",
    "#5) The current layer is not yet associated to the map \n",
    "map.layers.append(layer)\n",
    "\n",
    "#6) Zoom to full extend of layers and dump content\n",
    "map.zoom_all()\n",
    "mapnik.render_to_file(map, os.path.join(\"figs\",\n",
    "                                        \"map.png\"), \"png\")\n",
    "print \"All done - check content\""
   ]
  }
 ],
 "metadata": {
  "kernelspec": {
   "display_name": "Python 2",
   "language": "python",
   "name": "python2"
  },
  "language_info": {
   "codemirror_mode": {
    "name": "ipython",
    "version": 2
   },
   "file_extension": ".py",
   "mimetype": "text/x-python",
   "name": "python",
   "nbconvert_exporter": "python",
   "pygments_lexer": "ipython2",
   "version": "2.7.6"
  }
 },
 "nbformat": 4,
 "nbformat_minor": 0
}
